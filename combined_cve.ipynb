{
 "cells": [
  {
   "cell_type": "code",
   "execution_count": 18,
   "metadata": {},
   "outputs": [
    {
     "name": "stdout",
     "output_type": "stream",
     "text": [
      "{'id': 'CVE-2021-46022', 'sourceIdentifier': 'cve@mitre.org', 'published': '2022-01-14T20:15:15.560', 'lastModified': '2024-11-21T06:33:29.270', 'vulnStatus': 'Modified', 'cveTags': [], 'descriptions': [{'lang': 'en', 'value': 'An Use-After-Free vulnerability in rec_mset_elem_destroy() at rec-mset.c of GNU Recutils v1.8.90 can lead to a segmentation fault or application crash.'}, {'lang': 'es', 'value': 'Una vulnerabilidad de Uso de Memoria Previamente Liberada en la función rec_mset_elem_destroy() en el archivo rec-mset.c de GNU Recutils v1.8.90, puede conllevar a un fallo de segmentación o un fallo de la aplicación'}], 'metrics': {'cvssMetricV31': [{'source': 'nvd@nist.gov', 'type': 'Primary', 'cvssData': {'version': '3.1', 'vectorString': 'CVSS:3.1/AV:L/AC:L/PR:N/UI:R/S:U/C:N/I:N/A:H', 'baseScore': 5.5, 'baseSeverity': 'MEDIUM', 'attackVector': 'LOCAL', 'attackComplexity': 'LOW', 'privilegesRequired': 'NONE', 'userInteraction': 'REQUIRED', 'scope': 'UNCHANGED', 'confidentialityImpact': 'NONE', 'integrityImpact': 'NONE', 'availabilityImpact': 'HIGH'}, 'exploitabilityScore': 1.8, 'impactScore': 3.6}], 'cvssMetricV2': [{'source': 'nvd@nist.gov', 'type': 'Primary', 'cvssData': {'version': '2.0', 'vectorString': 'AV:N/AC:M/Au:N/C:N/I:N/A:P', 'baseScore': 4.3, 'accessVector': 'NETWORK', 'accessComplexity': 'MEDIUM', 'authentication': 'NONE', 'confidentialityImpact': 'NONE', 'integrityImpact': 'NONE', 'availabilityImpact': 'PARTIAL'}, 'baseSeverity': 'MEDIUM', 'exploitabilityScore': 8.6, 'impactScore': 2.9, 'acInsufInfo': False, 'obtainAllPrivilege': False, 'obtainUserPrivilege': False, 'obtainOtherPrivilege': False, 'userInteractionRequired': True}]}, 'weaknesses': [{'source': 'nvd@nist.gov', 'type': 'Primary', 'description': [{'lang': 'en', 'value': 'CWE-416'}]}], 'configurations': [{'nodes': [{'operator': 'OR', 'negate': False, 'cpeMatch': [{'vulnerable': True, 'criteria': 'cpe:2.3:a:gnu:recutils:1.8.90:*:*:*:*:*:*:*', 'matchCriteriaId': 'DFCF897B-6314-4056-87F0-6E447080963F'}]}]}, {'nodes': [{'operator': 'OR', 'negate': False, 'cpeMatch': [{'vulnerable': True, 'criteria': 'cpe:2.3:o:fedoraproject:fedora:35:*:*:*:*:*:*:*', 'matchCriteriaId': '80E516C0-98A4-4ADE-B69F-66A772E2BAAA'}, {'vulnerable': True, 'criteria': 'cpe:2.3:o:fedoraproject:fedora:36:*:*:*:*:*:*:*', 'matchCriteriaId': '5C675112-476C-4D7C-BCB9-A2FB2D0BC9FD'}]}]}], 'references': [{'url': 'https://github.com/gnu-mirror-unofficial/recutils/commit/34b75ed7ad492c8e38b669ebafe0176f1f9992d2', 'source': 'cve@mitre.org'}, {'url': 'https://lists.fedoraproject.org/archives/list/package-announce%40lists.fedoraproject.org/message/TDVOFC3HTBG7DF2PZTEXRMG4CV2F55UF/', 'source': 'cve@mitre.org'}, {'url': 'https://lists.fedoraproject.org/archives/list/package-announce%40lists.fedoraproject.org/message/VRSXSN2XF6PX74WDYVV26TQMYIFAEQ3T/', 'source': 'cve@mitre.org'}, {'url': 'https://lists.gnu.org/archive/html/bug-recutils/2021-12/msg00007.html', 'source': 'cve@mitre.org', 'tags': ['Exploit', 'Mailing List', 'Vendor Advisory']}, {'url': 'https://nvd.nist.gov/vuln/detail/CVE-2021-46022', 'source': 'cve@mitre.org'}, {'url': 'https://github.com/gnu-mirror-unofficial/recutils/commit/34b75ed7ad492c8e38b669ebafe0176f1f9992d2', 'source': 'af854a3a-2127-422b-91ae-364da2661108'}, {'url': 'https://lists.fedoraproject.org/archives/list/package-announce%40lists.fedoraproject.org/message/TDVOFC3HTBG7DF2PZTEXRMG4CV2F55UF/', 'source': 'af854a3a-2127-422b-91ae-364da2661108'}, {'url': 'https://lists.fedoraproject.org/archives/list/package-announce%40lists.fedoraproject.org/message/VRSXSN2XF6PX74WDYVV26TQMYIFAEQ3T/', 'source': 'af854a3a-2127-422b-91ae-364da2661108'}, {'url': 'https://lists.gnu.org/archive/html/bug-recutils/2021-12/msg00007.html', 'source': 'af854a3a-2127-422b-91ae-364da2661108', 'tags': ['Exploit', 'Mailing List', 'Vendor Advisory']}, {'url': 'https://nvd.nist.gov/vuln/detail/CVE-2021-46022', 'source': 'af854a3a-2127-422b-91ae-364da2661108'}]}\n"
     ]
    }
   ],
   "source": [
    "import json\n",
    "\n",
    "# Load the JSON file\n",
    "with open('examples/CVE-2021-46022_NVD.json') as f:\n",
    "    data_nvd = json.load(f)\n",
    "\n",
    "print(data_nvd)"
   ]
  },
  {
   "cell_type": "code",
   "execution_count": 19,
   "metadata": {},
   "outputs": [
    {
     "name": "stdout",
     "output_type": "stream",
     "text": [
      "{'dataType': 'CVE_RECORD', 'dataVersion': '5.1', 'cveMetadata': {'state': 'PUBLISHED', 'cveId': 'CVE-2021-46022', 'assignerOrgId': '8254265b-2729-46b6-b9e3-3dfca2d5bfca', 'assignerShortName': 'mitre', 'dateUpdated': '2024-08-04T04:54:31.232Z', 'dateReserved': '2022-01-03T00:00:00', 'datePublished': '2022-01-14T00:00:00'}, 'containers': {'cna': {'providerMetadata': {'orgId': '8254265b-2729-46b6-b9e3-3dfca2d5bfca', 'shortName': 'mitre', 'dateUpdated': '2023-11-13T22:41:58.698447'}, 'descriptions': [{'lang': 'en', 'value': 'An Use-After-Free vulnerability in rec_mset_elem_destroy() at rec-mset.c of GNU Recutils v1.8.90 can lead to a segmentation fault or application crash.'}], 'affected': [{'vendor': 'n/a', 'product': 'n/a', 'versions': [{'version': 'n/a', 'status': 'affected'}]}], 'references': [{'url': 'https://lists.gnu.org/archive/html/bug-recutils/2021-12/msg00007.html'}, {'name': 'FEDORA-2022-4e6bd7ca62', 'tags': ['vendor-advisory'], 'url': 'https://lists.fedoraproject.org/archives/list/package-announce%40lists.fedoraproject.org/message/VRSXSN2XF6PX74WDYVV26TQMYIFAEQ3T/'}, {'name': 'FEDORA-2022-17787e290f', 'tags': ['vendor-advisory'], 'url': 'https://lists.fedoraproject.org/archives/list/package-announce%40lists.fedoraproject.org/message/TDVOFC3HTBG7DF2PZTEXRMG4CV2F55UF/'}, {'url': 'https://github.com/gnu-mirror-unofficial/recutils/commit/34b75ed7ad492c8e38b669ebafe0176f1f9992d2'}, {'url': 'https://nvd.nist.gov/vuln/detail/CVE-2021-46022'}], 'problemTypes': [{'descriptions': [{'type': 'text', 'lang': 'en', 'description': 'n/a'}]}]}, 'adp': [{'providerMetadata': {'orgId': 'af854a3a-2127-422b-91ae-364da2661108', 'shortName': 'CVE', 'dateUpdated': '2024-08-04T04:54:31.232Z'}, 'title': 'CVE Program Container', 'references': [{'url': 'https://lists.gnu.org/archive/html/bug-recutils/2021-12/msg00007.html', 'tags': ['x_transferred']}, {'name': 'FEDORA-2022-4e6bd7ca62', 'tags': ['vendor-advisory', 'x_transferred'], 'url': 'https://lists.fedoraproject.org/archives/list/package-announce%40lists.fedoraproject.org/message/VRSXSN2XF6PX74WDYVV26TQMYIFAEQ3T/'}, {'name': 'FEDORA-2022-17787e290f', 'tags': ['vendor-advisory', 'x_transferred'], 'url': 'https://lists.fedoraproject.org/archives/list/package-announce%40lists.fedoraproject.org/message/TDVOFC3HTBG7DF2PZTEXRMG4CV2F55UF/'}, {'url': 'https://github.com/gnu-mirror-unofficial/recutils/commit/34b75ed7ad492c8e38b669ebafe0176f1f9992d2', 'tags': ['x_transferred']}, {'url': 'https://nvd.nist.gov/vuln/detail/CVE-2021-46022', 'tags': ['x_transferred']}]}]}}\n"
     ]
    }
   ],
   "source": [
    "with open('examples/CVE-2021-46022_V5.json') as f:\n",
    "    data_v5 = json.load(f)\n",
    "\n",
    "print(data_v5)"
   ]
  },
  {
   "cell_type": "markdown",
   "metadata": {},
   "source": [
    "### integrate nvd into V5"
   ]
  },
  {
   "cell_type": "code",
   "execution_count": 20,
   "metadata": {},
   "outputs": [
    {
     "name": "stdout",
     "output_type": "stream",
     "text": [
      "Description found in V5 JSON\n",
      "Description added to V5 JSON\n"
     ]
    }
   ],
   "source": [
    "# add descriptions from NVD to V5 JSON\n",
    "\n",
    "for description in data_nvd['descriptions']:\n",
    "    v5_descriptions = [desc['value'] for desc in data_v5['containers']['cna']['descriptions']]\n",
    "    if description['value'] not in v5_descriptions:\n",
    "        data_v5['containers']['cna']['descriptions'].append(description)\n",
    "        print(f\"Description added to V5 JSON\")\n",
    "    else:\n",
    "        print(f\"Description found in V5 JSON\")"
   ]
  },
  {
   "cell_type": "code",
   "execution_count": 21,
   "metadata": {},
   "outputs": [
    {
     "name": "stdout",
     "output_type": "stream",
     "text": [
      "Weakness added to V5 JSON\n",
      "[{'descriptions': [{'type': 'text', 'lang': 'en', 'description': 'n/a'}]}, {'lang': 'en', 'cweId': 'CWE-416', 'descriptions': 'CWE-416', 'type': 'CWE'}]\n"
     ]
    }
   ],
   "source": [
    "# add weaknesses from NVD to V5 JSON\n",
    "\n",
    "nvd_weaknesses = [weak['value'] for type in data_nvd['weaknesses'] for weak in type['description']]\n",
    "for weakness in nvd_weaknesses:\n",
    "    v5_weaknesses = [weak['cweId'] for weak in data_v5['containers']['cna']['problemTypes'] if weak['descriptions'] == 'CWE']\n",
    "    if weakness not in v5_weaknesses:\n",
    "        data_v5['containers']['cna']['problemTypes'].append({\n",
    "            \"lang\": \"en\",\n",
    "            \"cweId\": weakness,\n",
    "            \"descriptions\": weakness,\n",
    "            \"type\": \"CWE\"\n",
    "        })\n",
    "        print(f\"Weakness added to V5 JSON\")\n",
    "    else:\n",
    "        print(f\"Weakness found in V5 JSON\")\n",
    "\n",
    "print(data_v5['containers']['cna']['problemTypes'])"
   ]
  },
  {
   "cell_type": "code",
   "execution_count": null,
   "metadata": {},
   "outputs": [],
   "source": []
  }
 ],
 "metadata": {
  "kernelspec": {
   "display_name": "cybersecai",
   "language": "python",
   "name": "python3"
  },
  "language_info": {
   "codemirror_mode": {
    "name": "ipython",
    "version": 3
   },
   "file_extension": ".py",
   "mimetype": "text/x-python",
   "name": "python",
   "nbconvert_exporter": "python",
   "pygments_lexer": "ipython3",
   "version": "3.13.1"
  }
 },
 "nbformat": 4,
 "nbformat_minor": 2
}
