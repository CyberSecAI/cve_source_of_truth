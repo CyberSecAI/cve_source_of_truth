{
 "cells": [
  {
   "cell_type": "code",
   "execution_count": 1,
   "metadata": {},
   "outputs": [],
   "source": [
    "import pandas as pd    \n",
    "import pickle\n",
    "\n",
    "# jsonObj = pd.read_json(path_or_buf='nvd.jsonl', lines=True)\n",
    "\n",
    "# # get all columns \n",
    "# cve_dict = {}\n",
    "# for i in range(len(jsonObj.columns)):\n",
    "#     cve_dict[jsonObj[i][0]['cve']['id']] = jsonObj[i][0]['cve']\n",
    "\n",
    "# # save in pickle\n",
    "# with open('cve_dict.pickle', 'wb') as handle:\n",
    "#     pickle.dump(cve_dict, handle, protocol=pickle.HIGHEST_PROTOCOL)\n",
    "\n",
    "# load pickle file\n",
    "with open('cve_dict.pickle', 'rb') as handle:\n",
    "    cve_dict = pickle.load(handle)"
   ]
  },
  {
   "cell_type": "code",
   "execution_count": 2,
   "metadata": {},
   "outputs": [
    {
     "data": {
      "text/plain": [
       "{'id': 'CVE-2021-46022',\n",
       " 'sourceIdentifier': 'cve@mitre.org',\n",
       " 'published': '2022-01-14T20:15:15.560',\n",
       " 'lastModified': '2024-11-21T06:33:29.270',\n",
       " 'vulnStatus': 'Modified',\n",
       " 'cveTags': [],\n",
       " 'descriptions': [{'lang': 'en',\n",
       "   'value': 'An Use-After-Free vulnerability in rec_mset_elem_destroy() at rec-mset.c of GNU Recutils v1.8.90 can lead to a segmentation fault or application crash.'},\n",
       "  {'lang': 'es',\n",
       "   'value': 'Una vulnerabilidad de Uso de Memoria Previamente Liberada en la función rec_mset_elem_destroy() en el archivo rec-mset.c de GNU Recutils v1.8.90, puede conllevar a un fallo de segmentación o un fallo de la aplicación'}],\n",
       " 'metrics': {'cvssMetricV31': [{'source': 'nvd@nist.gov',\n",
       "    'type': 'Primary',\n",
       "    'cvssData': {'version': '3.1',\n",
       "     'vectorString': 'CVSS:3.1/AV:L/AC:L/PR:N/UI:R/S:U/C:N/I:N/A:H',\n",
       "     'baseScore': 5.5,\n",
       "     'baseSeverity': 'MEDIUM',\n",
       "     'attackVector': 'LOCAL',\n",
       "     'attackComplexity': 'LOW',\n",
       "     'privilegesRequired': 'NONE',\n",
       "     'userInteraction': 'REQUIRED',\n",
       "     'scope': 'UNCHANGED',\n",
       "     'confidentialityImpact': 'NONE',\n",
       "     'integrityImpact': 'NONE',\n",
       "     'availabilityImpact': 'HIGH'},\n",
       "    'exploitabilityScore': 1.8,\n",
       "    'impactScore': 3.6}],\n",
       "  'cvssMetricV2': [{'source': 'nvd@nist.gov',\n",
       "    'type': 'Primary',\n",
       "    'cvssData': {'version': '2.0',\n",
       "     'vectorString': 'AV:N/AC:M/Au:N/C:N/I:N/A:P',\n",
       "     'baseScore': 4.3,\n",
       "     'accessVector': 'NETWORK',\n",
       "     'accessComplexity': 'MEDIUM',\n",
       "     'authentication': 'NONE',\n",
       "     'confidentialityImpact': 'NONE',\n",
       "     'integrityImpact': 'NONE',\n",
       "     'availabilityImpact': 'PARTIAL'},\n",
       "    'baseSeverity': 'MEDIUM',\n",
       "    'exploitabilityScore': 8.6,\n",
       "    'impactScore': 2.9,\n",
       "    'acInsufInfo': False,\n",
       "    'obtainAllPrivilege': False,\n",
       "    'obtainUserPrivilege': False,\n",
       "    'obtainOtherPrivilege': False,\n",
       "    'userInteractionRequired': True}]},\n",
       " 'weaknesses': [{'source': 'nvd@nist.gov',\n",
       "   'type': 'Primary',\n",
       "   'description': [{'lang': 'en', 'value': 'CWE-416'}]}],\n",
       " 'configurations': [{'nodes': [{'operator': 'OR',\n",
       "     'negate': False,\n",
       "     'cpeMatch': [{'vulnerable': True,\n",
       "       'criteria': 'cpe:2.3:a:gnu:recutils:1.8.90:*:*:*:*:*:*:*',\n",
       "       'matchCriteriaId': 'DFCF897B-6314-4056-87F0-6E447080963F'}]}]},\n",
       "  {'nodes': [{'operator': 'OR',\n",
       "     'negate': False,\n",
       "     'cpeMatch': [{'vulnerable': True,\n",
       "       'criteria': 'cpe:2.3:o:fedoraproject:fedora:35:*:*:*:*:*:*:*',\n",
       "       'matchCriteriaId': '80E516C0-98A4-4ADE-B69F-66A772E2BAAA'},\n",
       "      {'vulnerable': True,\n",
       "       'criteria': 'cpe:2.3:o:fedoraproject:fedora:36:*:*:*:*:*:*:*',\n",
       "       'matchCriteriaId': '5C675112-476C-4D7C-BCB9-A2FB2D0BC9FD'}]}]}],\n",
       " 'references': [{'url': 'https://github.com/gnu-mirror-unofficial/recutils/commit/34b75ed7ad492c8e38b669ebafe0176f1f9992d2',\n",
       "   'source': 'cve@mitre.org'},\n",
       "  {'url': 'https://lists.fedoraproject.org/archives/list/package-announce%40lists.fedoraproject.org/message/TDVOFC3HTBG7DF2PZTEXRMG4CV2F55UF/',\n",
       "   'source': 'cve@mitre.org'},\n",
       "  {'url': 'https://lists.fedoraproject.org/archives/list/package-announce%40lists.fedoraproject.org/message/VRSXSN2XF6PX74WDYVV26TQMYIFAEQ3T/',\n",
       "   'source': 'cve@mitre.org'},\n",
       "  {'url': 'https://lists.gnu.org/archive/html/bug-recutils/2021-12/msg00007.html',\n",
       "   'source': 'cve@mitre.org',\n",
       "   'tags': ['Exploit', 'Mailing List', 'Vendor Advisory']},\n",
       "  {'url': 'https://nvd.nist.gov/vuln/detail/CVE-2021-46022',\n",
       "   'source': 'cve@mitre.org'},\n",
       "  {'url': 'https://github.com/gnu-mirror-unofficial/recutils/commit/34b75ed7ad492c8e38b669ebafe0176f1f9992d2',\n",
       "   'source': 'af854a3a-2127-422b-91ae-364da2661108'},\n",
       "  {'url': 'https://lists.fedoraproject.org/archives/list/package-announce%40lists.fedoraproject.org/message/TDVOFC3HTBG7DF2PZTEXRMG4CV2F55UF/',\n",
       "   'source': 'af854a3a-2127-422b-91ae-364da2661108'},\n",
       "  {'url': 'https://lists.fedoraproject.org/archives/list/package-announce%40lists.fedoraproject.org/message/VRSXSN2XF6PX74WDYVV26TQMYIFAEQ3T/',\n",
       "   'source': 'af854a3a-2127-422b-91ae-364da2661108'},\n",
       "  {'url': 'https://lists.gnu.org/archive/html/bug-recutils/2021-12/msg00007.html',\n",
       "   'source': 'af854a3a-2127-422b-91ae-364da2661108',\n",
       "   'tags': ['Exploit', 'Mailing List', 'Vendor Advisory']},\n",
       "  {'url': 'https://nvd.nist.gov/vuln/detail/CVE-2021-46022',\n",
       "   'source': 'af854a3a-2127-422b-91ae-364da2661108'}]}"
      ]
     },
     "execution_count": 2,
     "metadata": {},
     "output_type": "execute_result"
    }
   ],
   "source": [
    "cve_dict['CVE-2021-46022']"
   ]
  },
  {
   "cell_type": "code",
   "execution_count": null,
   "metadata": {},
   "outputs": [],
   "source": []
  }
 ],
 "metadata": {
  "kernelspec": {
   "display_name": "cybersecai",
   "language": "python",
   "name": "python3"
  },
  "language_info": {
   "codemirror_mode": {
    "name": "ipython",
    "version": 3
   },
   "file_extension": ".py",
   "mimetype": "text/x-python",
   "name": "python",
   "nbconvert_exporter": "python",
   "pygments_lexer": "ipython3",
   "version": "3.13.1"
  }
 },
 "nbformat": 4,
 "nbformat_minor": 2
}
